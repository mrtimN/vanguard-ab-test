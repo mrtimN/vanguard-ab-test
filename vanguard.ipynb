{
 "cells": [
  {
   "cell_type": "code",
   "execution_count": 14,
   "id": "35eff3ea-d84c-4085-910d-5115e60c7a45",
   "metadata": {},
   "outputs": [],
   "source": [
    "import pandas as pd\n",
    "\n",
    "url_client_profiles = 'data/df_final_demo.txt'\n",
    "url_digital_footprints1 = 'data/df_final_web_data_pt_1.txt'\n",
    "url_digital_footprints2 = 'data/df_final_web_data_pt_2.txt'\n",
    "url_experiment_roster = 'data/df_final_experiment_clients.txt'\n",
    "\n",
    "df1 = pd.read_csv(url_digital_footprints1)\n",
    "df2 = pd.read_csv(url_digital_footprints2)\n",
    "\n",
    "# imported dataframes to work with\n",
    "df_client_profiles = pd.read_csv(url_client_profiles)\n",
    "df_exp_roster = pd.read_csv(url_experiment_roster)\n",
    "# merged footprint files\n",
    "df_footprints = pd.concat([df1, df2])"
   ]
  },
  {
   "cell_type": "code",
   "execution_count": null,
   "id": "f6183914-6e23-46f5-b7f5-c45ffbe26665",
   "metadata": {},
   "outputs": [],
   "source": []
  }
 ],
 "metadata": {
  "kernelspec": {
   "display_name": "Python [conda env:base] *",
   "language": "python",
   "name": "conda-base-py"
  },
  "language_info": {
   "codemirror_mode": {
    "name": "ipython",
    "version": 3
   },
   "file_extension": ".py",
   "mimetype": "text/x-python",
   "name": "python",
   "nbconvert_exporter": "python",
   "pygments_lexer": "ipython3",
   "version": "3.12.7"
  }
 },
 "nbformat": 4,
 "nbformat_minor": 5
}

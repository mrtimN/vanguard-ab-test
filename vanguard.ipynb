{
 "cells": [
  {
   "cell_type": "code",
   "execution_count": null,
   "id": "35eff3ea-d84c-4085-910d-5115e60c7a45",
   "metadata": {},
   "outputs": [],
   "source": [
    "import pandas as pd\n",
    "\n",
    "# loading all datasets\n",
    "url_client_profiles = 'data/df_final_demo.txt'\n",
    "url_digital_footprints1 = 'data/df_final_web_data_pt_1.txt'\n",
    "url_digital_footprints2 = 'data/df_final_web_data_pt_2.txt'\n",
    "url_experiment_roster = 'data/df_final_experiment_clients.txt'\n",
    "\n",
    "df1 = pd.read_csv(url_digital_footprints1)\n",
    "df2 = pd.read_csv(url_digital_footprints2)\n",
    "\n",
    "# imported dataframes to work with\n",
    "df_client_profiles = pd.read_csv(url_client_profiles)\n",
    "df_exp_roster = pd.read_csv(url_experiment_roster)\n",
    "# merged footprint files\n",
    "df_footprints = pd.concat([df1, df2])"
   ]
  },
  {
   "cell_type": "code",
   "execution_count": null,
   "id": "11f497f4-a759-4fcc-8abd-6f996d63ead3",
   "metadata": {},
   "outputs": [],
   "source": [
    "# cleaning the datasets\n",
    "df_client_profiles.rename(columns={'clnt_tenure_yr': 'client_tenure_years', 'clnt_tenure_mnth': 'client_tenure_months', 'clnt_age': 'client_age', 'gendr': 'gender', 'num_accts': 'num_accounts', 'bal': 'balance', 'calls_6_mnth': 'calls_6months', 'logons_6_mnth': 'logins_6months'}, inplace=True)\n",
    "df_client_profiles_cleaned = df_client_profiles.dropna(subset=[\"client_tenure_years\", \"client_tenure_months\", \"client_age\", \"gender\", \"num_accounts\", \"balance\", \"calls_6months\", \"logins_6months\"], how=\"all\")\n",
    "df_exp_roster_cleaned = df_exp_roster.dropna(subset=[\"Variation\"], how=\"all\")\n",
    "df_footprints_cleaned = df_footprints.dropna(subset=[\"client_id\", \"visitor_id\", \"visit_id\", \"process_step\", \"date_time\"], how=\"all\")\n",
    "\n",
    "df_client_profiles_cleaned[df_client_profiles_cleaned['gender']=='U']\n",
    "df_client_profiles_cleaned['gender'] = df_client_profiles_cleaned['gender'].apply(lambda x: 'U' if x == 'X' else x)\n",
    "df_client_profiles_cleaned['gender'].fillna('U')\n",
    "df_footprints_cleaned.drop_duplicates(subset=['client_id', 'visit_id', 'date_time'])"
   ]
  },
  {
   "cell_type": "code",
   "execution_count": null,
   "id": "608569ba-f844-4326-9b32-6f1c3ee066b7",
   "metadata": {},
   "outputs": [],
   "source": [
    "# joining footprints and experiment roster datasets\n",
    "df_footprints_cleaned.set_index('client_id', inplace=True)\n",
    "df_exp_roster_cleaned.set_index('client_id', inplace=True)\n",
    "\n",
    "joined_df = df_footprints_cleaned.join(df_exp_roster_cleaned, how='inner')\n",
    "joined_df['date_time'] = pd.to_datetime(joined_df['date_time'])\n",
    "df_sorted = joined_df.sort_values(by=['Variation', 'visit_id', 'date_time'])"
   ]
  },
  {
   "cell_type": "code",
   "execution_count": null,
   "id": "03796ee0-e26b-4c59-bac9-699ab340b087",
   "metadata": {},
   "outputs": [],
   "source": [
    "# Calculating Completion Rate: \n",
    "vistor_df = df_footprints_cleaned[df_footprints_cleaned[\"process_step\"] == \"confirm\"]\n",
    "vistor_df['visit_id'].nunique()\n",
    "\n",
    "df_footprints_cleaned[\"visit_id\"].nunique()\n",
    "\n",
    "completion_rate = round(\n",
    "    (vistor_df['visit_id'].nunique() / df_footprints_cleaned[\"visit_id\"].nunique()) * 100, 2\n",
    ")"
   ]
  },
  {
   "cell_type": "code",
   "execution_count": null,
   "id": "1dea10f5-7ca7-46f7-a8e5-7989ca50caeb",
   "metadata": {},
   "outputs": [],
   "source": [
    "# Calculating Time Spent On Each Step\n",
    "\n",
    "# Ensure 'date_time' is in datetime format\n",
    "df_footprints_cleaned['date_time'] = pd.to_datetime(df_footprints_cleaned['date_time'])\n",
    "\n",
    "# Sort by visit_id and date_time to ensure correct time difference calculation\n",
    "df_footprints_cleaned = df_footprints_cleaned.sort_values(by=['visit_id', 'date_time'])\n",
    "\n",
    "# Calculate time spent on each step (difference between consecutive timestamps within each visit)\n",
    "df_footprints_cleaned['time_spent'] = df_footprints_cleaned.groupby('visit_id')['date_time'].diff().dt.total_seconds()\n",
    "\n",
    "# Compute the average time spent per process_step\n",
    "average_time_per_step = df_footprints_cleaned.groupby('process_step')['time_spent'].mean()\n",
    "\n",
    "# Merge the average time back into the original dataframe as a new column\n",
    "df_footprints_cleaned['time_each_step'] = df_footprints_cleaned['process_step'].map(average_time_per_step)\n",
    "\n",
    "# Round to 2 decimal places for readability\n",
    "df_footprints_cleaned['time_each_step'] = df_footprints_cleaned['time_each_step'].round(2)\n",
    "\n",
    "df_footprints_cleaned"
   ]
  },
  {
   "cell_type": "code",
   "execution_count": null,
   "id": "da7b4e15-6529-4554-b72b-8d92f3f24b53",
   "metadata": {},
   "outputs": [],
   "source": [
    "# error rates calculation\n",
    "possible_previous_steps = {\n",
    "    'start' : None,\n",
    "    'step_1' : 'start',\n",
    "    'step_2' : 'step_1',\n",
    "    'step_3' : 'step_2',\n",
    "    'confirm' : 'step_3'\n",
    "}\n",
    "\n",
    "def check_error(df, possible_previous_steps):\n",
    "    error_count = 0\n",
    "    valid_count = 0\n",
    "    \n",
    "    for visit_id, grouped_df in df.groupby('visit_id'):\n",
    "        previous_step = None\n",
    "        #print(f\"\\nCurrent visit_id: {visit_id}\")\n",
    "        \n",
    "        for step in grouped_df['process_step']:\n",
    "            \n",
    "            if previous_step is not None:\n",
    "                if previous_step == step:\n",
    "                    #print(f'Valid: {previous_step} to {step} is possible.')\n",
    "                    valid_count += 1\n",
    "                else:\n",
    "                    expected_previous = possible_previous_steps[step]\n",
    "                    # add an elif: for same step again (page reload)\n",
    "                    if previous_step != expected_previous:\n",
    "                        #print(f'ERROR: Switch from {previous_step} to {step} is not valid.')\n",
    "                        error_count += 1\n",
    "                    else:\n",
    "                        #print(f'Valid: {previous_step} to {step} is possible.')\n",
    "                        valid_count += 1\n",
    "            previous_step = step\n",
    "    return error_count, valid_count\n",
    "\n",
    "check_error(df_sorted, possible_previous_steps)"
   ]
  },
  {
   "cell_type": "code",
   "execution_count": null,
   "id": "f0bb061f-7733-466b-bcf6-2c029ae8231a",
   "metadata": {},
   "outputs": [],
   "source": [
    "df_client_profiles_cleaned.groupby(['gender'])['client_age'].agg(['mean', 'median', 'min', 'max', 'count'])\n",
    "df_client_profiles_cleaned.groupby(['gender'])['client_tenure_years'].agg(['mean', 'median', 'min', 'max', 'count'])\n",
    "df_client_profiles_cleaned.groupby(['gender'])['balance'].agg(['mean', 'median', 'min', 'max', 'count'])\n",
    "\n",
    "# activity score calculation\n",
    "df_client_profiles_cleaned['activity_score'] = df_client_profiles_cleaned.iloc[:,8] + (df_client_profiles_cleaned.iloc[:,7]*0.5) + (df_client_profiles_cleaned.iloc[:,6]*0.00001)\n",
    "df_client_profiles_cleaned.sort_values('activity_score', ascending=False)\n",
    "\n",
    "#login and call scores\n",
    "high_login_threshold = df_client_profiles_cleaned['logins_6months'].quantile(0.8)\n",
    "low_login_threshold = df_client_profiles_cleaned['logins_6months'].quantile(0.2)\n",
    "high_call_threshold = df_client_profiles_cleaned['calls_6months'].quantile(0.8)\n",
    "low_call_threshold = df_client_profiles_cleaned['calls_6months'].quantile(0.2)\n",
    "\n",
    "def segment_customer(logins):\n",
    "    if logins >= high_login_threshold:\n",
    "        return \"Highly Active\"\n",
    "    elif logins <= low_login_threshold:\n",
    "        return \"Inactive\"\n",
    "    else:\n",
    "        return \"Moderate\"\n",
    "\n",
    "def segment_customer(calls):\n",
    "    if calls >= high_call_threshold:\n",
    "        return \"Highly Active\"\n",
    "    elif calls <= low_call_threshold:\n",
    "        return \"Inactive\"\n",
    "    else:\n",
    "        return \"Moderate\"\n",
    "\n",
    "df_client_profiles_cleaned[\"login_activity\"] = df_client_profiles_cleaned[\"logins_6months\"].apply(segment_customer)\n",
    "df_client_profiles_cleaned[\"calls_activity\"] = df_client_profiles_cleaned[\"calls_6months\"].apply(segment_customer)"
   ]
  },
  {
   "cell_type": "code",
   "execution_count": null,
   "id": "ceb65a94-f6c4-4c2a-a35e-1ce9de9836c0",
   "metadata": {},
   "outputs": [],
   "source": [
    "login_activity_counts = df_client_profiles_cleaned[\"login_activity\"].value_counts()\n",
    "print(login_activity_counts)\n",
    "df_client_profiles_cleaned.groupby([\"login_activity\", \"gender\"])[[\"client_age\", \"balance\", \"client_tenure_years\"]].mean()"
   ]
  },
  {
   "cell_type": "code",
   "execution_count": null,
   "id": "5c1158b7-c148-4866-bedd-68cbf52933dc",
   "metadata": {},
   "outputs": [],
   "source": [
    "calls_activity_counts = df_client_profiles_cleaned[\"calls_activity\"].value_counts()\n",
    "print(calls_activity_counts)\n",
    "df_client_profiles_cleaned.groupby([\"calls_activity\", \"gender\"])[[\"client_age\", \"balance\", \"client_tenure_years\"]].mean()"
   ]
  }
 ],
 "metadata": {
  "kernelspec": {
   "display_name": "Python [conda env:base] *",
   "language": "python",
   "name": "conda-base-py"
  },
  "language_info": {
   "codemirror_mode": {
    "name": "ipython",
    "version": 3
   },
   "file_extension": ".py",
   "mimetype": "text/x-python",
   "name": "python",
   "nbconvert_exporter": "python",
   "pygments_lexer": "ipython3",
   "version": "3.12.7"
  }
 },
 "nbformat": 4,
 "nbformat_minor": 5
}

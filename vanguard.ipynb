{
 "cells": [
  {
   "cell_type": "code",
   "execution_count": null,
   "id": "35eff3ea-d84c-4085-910d-5115e60c7a45",
   "metadata": {},
   "outputs": [],
   "source": [
    "import pandas as pd\n",
    "\n",
    "# loading all datasets\n",
    "url_client_profiles = 'data/df_final_demo.txt'\n",
    "url_digital_footprints1 = 'data/df_final_web_data_pt_1.txt'\n",
    "url_digital_footprints2 = 'data/df_final_web_data_pt_2.txt'\n",
    "url_experiment_roster = 'data/df_final_experiment_clients.txt'\n",
    "\n",
    "df1 = pd.read_csv(url_digital_footprints1)\n",
    "df2 = pd.read_csv(url_digital_footprints2)\n",
    "\n",
    "# imported dataframes to work with\n",
    "df_client_profiles = pd.read_csv(url_client_profiles)\n",
    "df_exp_roster = pd.read_csv(url_experiment_roster)\n",
    "# merged footprint files\n",
    "df_footprints = pd.concat([df1, df2])"
   ]
  },
  {
   "cell_type": "markdown",
   "id": "4ce26b40-c6b6-456c-9037-cc269ca56f09",
   "metadata": {},
   "source": [
    "df_exp_roster - contains client id and variation. giving information, if the client was in the \"Test\" or in the \"Control\" group df_client_profiles - contains demographic clients information\n",
    "df_footprints - contains information about the clients test process and the steps"
   ]
  },
  {
   "cell_type": "code",
   "execution_count": null,
   "id": "11f497f4-a759-4fcc-8abd-6f996d63ead3",
   "metadata": {},
   "outputs": [],
   "source": [
    "# cleaning the datasets\n",
    "df_client_profiles.rename(columns={'clnt_tenure_yr': 'client_tenure_years', 'clnt_tenure_mnth': 'client_tenure_months', 'clnt_age': 'client_age', 'gendr': 'gender', 'num_accts': 'num_accounts', 'bal': 'balance', 'calls_6_mnth': 'calls_6months', 'logons_6_mnth': 'logins_6months'}, inplace=True)\n",
    "df_client_profiles_cleaned = df_client_profiles.dropna(subset=[\"client_tenure_years\", \"client_tenure_months\", \"client_age\", \"gender\", \"num_accounts\", \"balance\", \"calls_6months\", \"logins_6months\"], how=\"all\")\n",
    "df_exp_roster_cleaned = df_exp_roster.dropna(subset=[\"Variation\"], how=\"all\")\n",
    "dffc = df_footprints.dropna(subset=[\"client_id\", \"visitor_id\", \"visit_id\", \"process_step\", \"date_time\"], how=\"all\")\n",
    "\n",
    "df_client_profiles_cleaned[df_client_profiles_cleaned['gender']=='U']\n",
    "df_client_profiles_cleaned['gender'] = df_client_profiles_cleaned['gender'].apply(lambda x: 'U' if x == 'X' else x)\n",
    "df_client_profiles_cleaned['gender'].fillna('U')"
   ]
  },
  {
   "cell_type": "code",
   "execution_count": null,
   "id": "f0bb061f-7733-466b-bcf6-2c029ae8231a",
   "metadata": {},
   "outputs": [],
   "source": [
    "df_client_profiles_cleaned.groupby(['gender'])['client_age'].agg(['mean', 'median', 'min', 'max', 'count'])"
   ]
  },
  {
   "cell_type": "code",
   "execution_count": null,
   "id": "85a38dab-5fd1-4489-82f8-73609d1c1fe2",
   "metadata": {},
   "outputs": [],
   "source": [
    "df_client_profiles_cleaned.groupby(['gender'])['client_tenure_years'].agg(['mean', 'median', 'min', 'max', 'count'])"
   ]
  },
  {
   "cell_type": "code",
   "execution_count": null,
   "id": "f3ed9f93-fe10-4a87-897b-b3ccb8e8fea6",
   "metadata": {},
   "outputs": [],
   "source": [
    "df_client_profiles_cleaned.groupby(['gender'])['balance'].agg(['mean', 'median', 'min', 'max', 'count'])"
   ]
  },
  {
   "cell_type": "code",
   "execution_count": null,
   "id": "c2118d41-ad3b-42e3-ba1f-2e9aa839eafd",
   "metadata": {},
   "outputs": [],
   "source": [
    "df_client_profiles_cleaned['activity_score'] = df_client_profiles_cleaned.iloc[:,8] + (df_client_profiles_cleaned.iloc[:,7]*0.5) + (df_client_profiles_cleaned.iloc[:,6]*0.00001)\n",
    "df_client_profiles_cleaned.sort_values('activity_score', ascending=False)"
   ]
  },
  {
   "cell_type": "code",
   "execution_count": null,
   "id": "9fd0f603-28c6-4ebb-bc79-8e754a0748db",
   "metadata": {},
   "outputs": [],
   "source": [
    "high_login_threshold = df_client_profiles_cleaned['logins_6months'].quantile(0.8)\n",
    "low_login_threshold = df_client_profiles_cleaned['logins_6months'].quantile(0.2)\n",
    "\n",
    "high_call_threshold = df_client_profiles_cleaned['calls_6months'].quantile(0.8)\n",
    "low_call_threshold = df_client_profiles_cleaned['calls_6months'].quantile(0.2)\n",
    "\n",
    "def segment_customer(logins):\n",
    "    if logins >= high_login_threshold:\n",
    "        return \"Highly Active\"\n",
    "    elif logins <= low_login_threshold:\n",
    "        return \"Inactive\"\n",
    "    else:\n",
    "        return \"Moderate\"\n",
    "\n",
    "def segment_customer(calls):\n",
    "    if calls >= high_call_threshold:\n",
    "        return \"Highly Active\"\n",
    "    elif calls <= low_call_threshold:\n",
    "        return \"Inactive\"\n",
    "    else:\n",
    "        return \"Moderate\"\n",
    "\n",
    "df_client_profiles_cleaned[\"login_activity\"] = df_client_profiles_cleaned[\"logins_6months\"].apply(segment_customer)\n",
    "df_client_profiles_cleaned[\"calls_activity\"] = df_client_profiles_cleaned[\"calls_6months\"].apply(segment_customer)"
   ]
  },
  {
   "cell_type": "code",
   "execution_count": null,
   "id": "ceb65a94-f6c4-4c2a-a35e-1ce9de9836c0",
   "metadata": {},
   "outputs": [],
   "source": [
    "login_activity_counts = df_client_profiles_cleaned[\"login_activity\"].value_counts()\n",
    "print(login_activity_counts)\n",
    "df_client_profiles_cleaned.groupby([\"login_activity\", \"gender\"])[[\"client_age\", \"balance\", \"client_tenure_years\"]].mean()"
   ]
  },
  {
   "cell_type": "code",
   "execution_count": null,
   "id": "5c1158b7-c148-4866-bedd-68cbf52933dc",
   "metadata": {},
   "outputs": [],
   "source": [
    "calls_activity_counts = df_client_profiles_cleaned[\"calls_activity\"].value_counts()\n",
    "print(calls_activity_counts)\n",
    "df_client_profiles_cleaned.groupby([\"calls_activity\", \"gender\"])[[\"client_age\", \"balance\", \"client_tenure_years\"]].mean()"
   ]
  },
  {
   "cell_type": "code",
   "execution_count": null,
   "id": "2817d56b-5f92-4954-8be1-cf93d35a9b8e",
   "metadata": {},
   "outputs": [],
   "source": [
    "dffc['date_time'] = pd.to_datetime(dffc['date_time'])\n",
    "\n",
    "df_sorted = dffc.sort_values(by=['visit_id', 'date_time'])\n",
    "\n",
    "grouped_df = df_sorted.groupby(['visitor_id', 'visit_id'])\n",
    "\n",
    "#df_sorted = dffc.sort_values(by=['visitor_id', 'visit_id', 'date_time']).reset_index(drop=True)\n",
    "df_sorted.head(50)"
   ]
  },
  {
   "cell_type": "code",
   "execution_count": null,
   "id": "111edc07-45e2-42bb-91b6-5442f9ddf1ea",
   "metadata": {},
   "outputs": [],
   "source": [
    "dffc.groupby(['visitor_id', 'visit_id'])['process_step']\n",
    "df_sc = dffc[dffc['client_id'] == 9988021]\n",
    "grouped_df = df_sc.groupby('visit_id', as_index=False)['process_step'].count()"
   ]
  },
  {
   "cell_type": "code",
   "execution_count": null,
   "id": "581b4724-6895-4093-beda-bb3c1f98c8f0",
   "metadata": {},
   "outputs": [],
   "source": [
    "#dffc.set_index('client_id', inplace=True)\n",
    "#df_exp_roster_cleaned.set_index('client_id', inplace=True)\n",
    "\n",
    "#joined_df = dffc.join(df_exp_roster_cleaned, how='left')"
   ]
  },
  {
   "cell_type": "code",
   "execution_count": null,
   "id": "818b27fd-0cf8-41de-b8b0-2264ca2e7ed2",
   "metadata": {},
   "outputs": [],
   "source": [
    "possible_previous_steps = {\n",
    "    'start' : None,\n",
    "    'step_1' : 'start',\n",
    "    'step_2' : 'step_1',\n",
    "    'step_3' : 'step_2',\n",
    "    'confirm' : 'step_3'\n",
    "}\n",
    "\n",
    "def check_error(df, possible_previous_steps):\n",
    "    error_count = 0\n",
    "    valid_count = 0\n",
    "    \n",
    "    for visit_id, grouped_df in df.groupby('visit_id'):\n",
    "        previous_step = None\n",
    "        #print(f\"\\nCurrent visit_id: {visit_id}\")\n",
    "        \n",
    "        for step in grouped_df['process_step']:\n",
    "            \n",
    "            if previous_step is not None:\n",
    "                if previous_step == step:\n",
    "                    #print(f'Valid: {previous_step} to {step} is possible.')\n",
    "                    valid_count += 1\n",
    "                else:\n",
    "                    expected_previous = possible_previous_steps[step]\n",
    "                    # add an elif: for same step again (page reload)\n",
    "                    if previous_step != expected_previous:\n",
    "                        #print(f'ERROR: Switch from {previous_step} to {step} is not valid.')\n",
    "                        error_count += 1\n",
    "                    else:\n",
    "                        #print(f'Valid: {previous_step} to {step} is possible.')\n",
    "                        valid_count += 1\n",
    "            previous_step = step\n",
    "    return error_count, valid_count"
   ]
  },
  {
   "cell_type": "code",
   "execution_count": null,
   "id": "7a713f13-0662-4ed9-8740-7b61790ba8bf",
   "metadata": {},
   "outputs": [],
   "source": [
    "check_error(df_sorted, possible_previous_steps)"
   ]
  },
  {
   "cell_type": "code",
   "execution_count": null,
   "id": "bf55d9a6-89ce-4732-9ce0-6d400c61f3d1",
   "metadata": {},
   "outputs": [],
   "source": [
    "df_sorted[df_sorted['visit_id'] == '100019538_17884295066_43909']\n",
    "#df_sorted"
   ]
  }
 ],
 "metadata": {
  "kernelspec": {
   "display_name": "Python [conda env:base] *",
   "language": "python",
   "name": "conda-base-py"
  },
  "language_info": {
   "codemirror_mode": {
    "name": "ipython",
    "version": 3
   },
   "file_extension": ".py",
   "mimetype": "text/x-python",
   "name": "python",
   "nbconvert_exporter": "python",
   "pygments_lexer": "ipython3",
   "version": "3.12.7"
  }
 },
 "nbformat": 4,
 "nbformat_minor": 5
}

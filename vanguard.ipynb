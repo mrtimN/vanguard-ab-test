{
 "cells": [
  {
   "cell_type": "code",
   "execution_count": null,
   "id": "35eff3ea-d84c-4085-910d-5115e60c7a45",
   "metadata": {},
   "outputs": [],
   "source": [
    "import pandas as pd\n",
    "\n",
    "url_client_profiles = 'data/df_final_demo.txt'\n",
    "url_digital_footprints1 = 'data/df_final_web_data_pt_1.txt'\n",
    "url_digital_footprints2 = 'data/df_final_web_data_pt_2.txt'\n",
    "url_experiment_roster = 'data/df_final_experiment_clients.txt'\n",
    "\n",
    "df1 = pd.read_csv(url_digital_footprints1)\n",
    "df2 = pd.read_csv(url_digital_footprints2)\n",
    "\n",
    "# imported dataframes to work with\n",
    "df_client_profiles = pd.read_csv(url_client_profiles)\n",
    "df_exp_roster = pd.read_csv(url_experiment_roster)\n",
    "# merged footprint files\n",
    "df_footprints = pd.concat([df1, df2])"
   ]
  },
  {
   "cell_type": "markdown",
   "id": "4ce26b40-c6b6-456c-9037-cc269ca56f09",
   "metadata": {},
   "source": [
    "df_exp_roster - contains client id and variation. giving information, if the client was in the \"Test\" or in the \"Control\" group df_client_profiles - contains demographic clients information\n",
    "df_footprints - contains information about the clients test process and the steps"
   ]
  },
  {
   "cell_type": "code",
   "execution_count": null,
   "id": "11f497f4-a759-4fcc-8abd-6f996d63ead3",
   "metadata": {},
   "outputs": [],
   "source": [
    "df_client_profiles.rename(columns={'clnt_tenure_yr': 'client_tenure_years', 'clnt_tenure_mnth': 'client_tenure_months', 'clnt_age': 'client_age', 'gendr': 'gender', 'num_accts': 'num_accounts', 'bal': 'balance', 'calls_6_mnth': 'calls_6months', 'logons_6_mnth': 'logins_6months'}, inplace=True)\n",
    "df_client_profiles_cleaned = df_client_profiles.dropna(subset=[\"client_tenure_years\", \"client_tenure_months\", \"client_age\", \"gender\", \"num_accounts\", \"balance\", \"calls_6months\", \"logins_6months\"], how=\"all\")\n",
    "df_exp_roster_cleaned = df_exp_roster.dropna(subset=[\"Variation\"], how=\"all\")\n",
    "df_footprints_cleaned = df_footprints.dropna(subset=[\"client_id\", \"visitor_id\", \"visit_id\", \"process_step\", \"date_time\"], how=\"all\")\n",
    "\n",
    "df_client_profiles_cleaned[df_client_profiles_cleaned['gender']=='U']\n",
    "df_client_profiles_cleaned['gender'] = df_client_profiles_cleaned['gender'].apply(lambda x: 'U' if x == 'X' else x)\n",
    "df_client_profiles_cleaned['gender'].fillna('U')"
   ]
  }
 ],
 "metadata": {
  "kernelspec": {
   "display_name": "Python [conda env:base] *",
   "language": "python",
   "name": "conda-base-py"
  },
  "language_info": {
   "codemirror_mode": {
    "name": "ipython",
    "version": 3
   },
   "file_extension": ".py",
   "mimetype": "text/x-python",
   "name": "python",
   "nbconvert_exporter": "python",
   "pygments_lexer": "ipython3",
   "version": "3.12.7"
  }
 },
 "nbformat": 4,
 "nbformat_minor": 5
}
